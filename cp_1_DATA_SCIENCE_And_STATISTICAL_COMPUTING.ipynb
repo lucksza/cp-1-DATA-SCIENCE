{
  "nbformat": 4,
  "nbformat_minor": 0,
  "metadata": {
    "colab": {
      "provenance": [],
      "mount_file_id": "1WKGe9pJfuWMWWZneTzHZ6GZHBFVZHTYi",
      "authorship_tag": "ABX9TyMAc2jZSE/38/7R63FpA54O",
      "include_colab_link": true
    },
    "kernelspec": {
      "name": "python3",
      "display_name": "Python 3"
    },
    "language_info": {
      "name": "python"
    }
  },
  "cells": [
    {
      "cell_type": "markdown",
      "metadata": {
        "id": "view-in-github",
        "colab_type": "text"
      },
      "source": [
        "<a href=\"https://colab.research.google.com/github/lucksza/cp-1-DATA-SCIENCE/blob/main/cp_1_DATA_SCIENCE_And_STATISTICAL_COMPUTING.ipynb\" target=\"_parent\"><img src=\"https://colab.research.google.com/assets/colab-badge.svg\" alt=\"Open In Colab\"/></a>"
      ]
    },
    {
      "cell_type": "markdown",
      "source": [
        "#Tipos de Variáveis\n"
      ],
      "metadata": {
        "id": "0uFsRL-20ws3"
      }
    },
    {
      "cell_type": "markdown",
      "source": [
        "\n",
        "#1\n",
        " - Crie um código que importa os dados e, ao importá-los analise suas colunas comentando sobre o tipo de variável de cada uma."
      ],
      "metadata": {
        "id": "VtC4Wq2ttcBG"
      }
    },
    {
      "cell_type": "code",
      "source": [
        "import pandas as pd\n",
        "\n",
        "df = pd.read_csv('dados_produtividade_construcao.csv')\n",
        "for colunas in df.columns:\n",
        "    print(colunas)"
      ],
      "metadata": {
        "colab": {
          "base_uri": "https://localhost:8080/"
        },
        "id": "itltUXyftNH3",
        "outputId": "7bf934b6-0355-48ff-e71d-2d6c27dc50c1"
      },
      "execution_count": null,
      "outputs": [
        {
          "output_type": "stream",
          "name": "stdout",
          "text": [
            "ID\n",
            "OBRA\n",
            "CREATED\n",
            "DESCRICAO\n",
            "CLASSE_COMP\n",
            "INSUMO_ATUAL\n",
            "IP_D\n",
            "UNIDADE\n",
            "COEF_SIURB\n"
          ]
        }
      ]
    },
    {
      "cell_type": "markdown",
      "source": [
        "-------------------------------------------------------------------------------\n",
        "\n",
        "**OBRA**: Qualitativa Nominal, pois não temos informações sobre a existência de hierarquia entre as obras, por exemplo: Obra A é mais importante que Obra B.\n",
        "\n",
        "-------------------------------------------------------------------------------\n",
        "\n",
        "**CREATED**: Qualitativa Nominal. Apesar de ser uma data, é considerada qualitativa porque representa um identificador de tempo e não uma medida\n",
        "contínua.\n",
        "\n",
        "-------------------------------------------------------------------------------\n",
        "\n",
        "**DESCRIÇÃO**: Qualitativa Nominal, pois ela mostra um valor único, não numérico e não ordenável.\n",
        "\n",
        "-------------------------------------------------------------------------------\n",
        "\n",
        "**CLASSE_COMP**: Quantitativa Contínua, pois representa um valor de medição.\n",
        "\n",
        "-------------------------------------------------------------------------------\n",
        "\n",
        "**INSUMO_ATUAL**: Qualitativa Nominal, pois representa uma descrição do material.\n",
        "\n",
        "-------------------------------------------------------------------------------\n",
        "\n",
        "**IP_D**: Quantitativa Contínua, pois representa uma medida numérica e pode assumir valores com casas decimais, sem limites fixos entre eles.\n",
        "\n",
        "-------------------------------------------------------------------------------\n",
        "\n",
        "**UNIDADE**: Qualitativa Nominal, pois representa uma categoria e não um número para cálculos diretos e não possui uma ordem lógica ou hierarquia.\n",
        "\n",
        "-------------------------------------------------------------------------------\n",
        "\n",
        "**COEF_SIURB**: Quantitativa Contínua, pois é um número decimal e pode ser usado para cálculos e análises estatísticas.\n",
        "\n",
        "-------------------------------------------------------------------------------"
      ],
      "metadata": {
        "id": "_7lGPJDTw3kh"
      }
    },
    {
      "cell_type": "markdown",
      "source": [
        "#2\n",
        " - Estatística é sobre \"responder perguntas com dados\", se coloque no lugar do gestor da construtora: com esses dados de produtividade de equipes em 3 obras diferentes, que tipo de perguntas poderíamos responder com esses dados (liste as que conseguir pensar)?\n"
      ],
      "metadata": {
        "id": "W35SKMOqnXen"
      }
    },
    {
      "cell_type": "code",
      "source": [
        "import pandas as pd\n",
        "\n",
        "df = pd.read_csv('dados_produtividade_construcao.csv')\n",
        "colunas = df.columns\n",
        "print(colunas)\n",
        "trabalho = df['IP_D']\n",
        "trabalho.head()"
      ],
      "metadata": {
        "colab": {
          "base_uri": "https://localhost:8080/",
          "height": 293
        },
        "id": "aEdAFw_DZnsR",
        "outputId": "2ee075ac-228e-4409-d8a9-991709035e6c"
      },
      "execution_count": null,
      "outputs": [
        {
          "output_type": "stream",
          "name": "stdout",
          "text": [
            "Index(['ID', 'OBRA', 'CREATED', 'DESCRICAO', 'CLASSE_COMP', 'INSUMO_ATUAL',\n",
            "       'IP_D', 'UNIDADE', 'COEF_SIURB'],\n",
            "      dtype='object')\n"
          ]
        },
        {
          "output_type": "execute_result",
          "data": {
            "text/plain": [
              "0    1.123611\n",
              "1    2.034783\n",
              "2    1.037037\n",
              "3    0.803138\n",
              "4    1.803030\n",
              "Name: IP_D, dtype: float64"
            ],
            "text/html": [
              "<div>\n",
              "<style scoped>\n",
              "    .dataframe tbody tr th:only-of-type {\n",
              "        vertical-align: middle;\n",
              "    }\n",
              "\n",
              "    .dataframe tbody tr th {\n",
              "        vertical-align: top;\n",
              "    }\n",
              "\n",
              "    .dataframe thead th {\n",
              "        text-align: right;\n",
              "    }\n",
              "</style>\n",
              "<table border=\"1\" class=\"dataframe\">\n",
              "  <thead>\n",
              "    <tr style=\"text-align: right;\">\n",
              "      <th></th>\n",
              "      <th>IP_D</th>\n",
              "    </tr>\n",
              "  </thead>\n",
              "  <tbody>\n",
              "    <tr>\n",
              "      <th>0</th>\n",
              "      <td>1.123611</td>\n",
              "    </tr>\n",
              "    <tr>\n",
              "      <th>1</th>\n",
              "      <td>2.034783</td>\n",
              "    </tr>\n",
              "    <tr>\n",
              "      <th>2</th>\n",
              "      <td>1.037037</td>\n",
              "    </tr>\n",
              "    <tr>\n",
              "      <th>3</th>\n",
              "      <td>0.803138</td>\n",
              "    </tr>\n",
              "    <tr>\n",
              "      <th>4</th>\n",
              "      <td>1.803030</td>\n",
              "    </tr>\n",
              "  </tbody>\n",
              "</table>\n",
              "</div><br><label><b>dtype:</b> float64</label>"
            ]
          },
          "metadata": {},
          "execution_count": 70
        }
      ]
    },
    {
      "cell_type": "markdown",
      "source": [
        "--------------------------------------------------------------------------------  \n",
        "**1**: Qual a equipe mais produtiva?  \n",
        "\n",
        "--------------------------------------------------------------------------------  \n",
        "**2**: Qual a equipe menos produtiva?  \n",
        "\n",
        "--------------------------------------------------------------------------------  \n",
        "**3**: Qual a média, mediana e moda das equipes em termos de produtividade?  \n",
        "\n",
        "--------------------------------------------------------------------------------  \n",
        "**4**: A produtividade das equipes varia dependendo do dia, da obra ou do insumo utilizado?  \n",
        "\n",
        "--------------------------------------------------------------------------------  \n",
        "**5**: A produtividade melhora ou piora em determinados horários do dia?  \n",
        "\n",
        "--------------------------------------------------------------------------------  \n",
        "**6**: Quais tipos de insumos são mais utilizados em cada obra?  \n",
        "\n",
        "--------------------------------------------------------------------------------  \n",
        "**7**: Como o tempo de trabalho e o tipo de material utilizado influenciam a produtividade?  \n",
        "\n",
        "--------------------------------------------------------------------------------  \n",
        "**8**: Quais tarefas estão sendo mais executadas ao longo do tempo em cada obra e como isso impacta a produtividade?  \n",
        "\n",
        "--------------------------------------------------------------------------------  \n",
        "**9**: Quais unidades de medida são mais comuns para diferentes atividades?  \n",
        "\n",
        "--------------------------------------------------------------------------------  "
      ],
      "metadata": {
        "id": "szV45kuQY0HX"
      }
    },
    {
      "cell_type": "markdown",
      "source": [
        "#Medidas de Posição Central, Gráfico de Densidade de Frequência e Boxplot\n"
      ],
      "metadata": {
        "id": "W283A7E-0z6t"
      }
    },
    {
      "cell_type": "markdown",
      "source": [
        "\n",
        "#3\n",
        " - Utilize tudo que aprendeu sobre medidas de posição central, gráfico de densidade de frequência e boxplot para responder a seguinte pergunta: Há diferença de produtividade entre obras? Se há, qual obra mais produtiva? Qual menos produtiva? Consegue pensar em motivos para esses comportamentos?\n",
        "\n",
        "\n"
      ],
      "metadata": {
        "id": "WCEJt0ldoYum"
      }
    },
    {
      "cell_type": "code",
      "source": [
        "import pandas as pd\n",
        "import matplotlib.pyplot as plt\n",
        "\n",
        "df = pd.read_csv('dados_produtividade_construcao.csv')\n",
        "\n",
        "#          media = df['IP_D'].mean()\n",
        " #         media_2 = round(media, 2)\n",
        "  #        mediana = df['IP_D'].median()\n",
        "   #       mediana_2 = round(mediana, 2)\n",
        "    #      moda = df['IP_D'].mode()\n",
        "     #     moda_2 = round(moda, 2)\n",
        "\n",
        "obra_a = df['IP_D'][df['OBRA'] == 'Obra A']\n",
        "obra_b = df['IP_D'][df['OBRA'] == 'Obra B']\n",
        "obra_c = df['IP_D'][df['OBRA'] == 'Obra C']\n",
        "\n",
        "mediaa = obra_a.mean()\n",
        "mediaa_1 = round(mediaa, 2)\n",
        "mediab = obra_b.mean()\n",
        "mediab_1 = round(mediab, 2)\n",
        "mediac = obra_c.mean()\n",
        "mediac_1 = round(mediac, 2)\n",
        "print(f'A média da obra A é: {mediaa_1}\\nA média da obra B é: {mediab_1}\\nA média da obra C é: {mediac_1}')\n",
        "\n",
        "plt.boxplot([obra_a, obra_b, obra_c])\n",
        "plt.xticks([1, 2, 3], ['Obra A', 'Obra B', 'Obra C'])\n",
        "plt.xlabel('obras')\n",
        "plt.ylabel('produtividade')"
      ],
      "metadata": {
        "colab": {
          "base_uri": "https://localhost:8080/",
          "height": 522
        },
        "id": "c8dPpLDUhDd8",
        "outputId": "26962d9b-1ad2-4302-dd39-dca2d707c64d"
      },
      "execution_count": null,
      "outputs": [
        {
          "output_type": "stream",
          "name": "stdout",
          "text": [
            "A média da obra A é: 1.41\n",
            "A média da obra B é: 0.99\n",
            "A média da obra C é: 1.35\n"
          ]
        },
        {
          "output_type": "execute_result",
          "data": {
            "text/plain": [
              "Text(0, 0.5, 'Produtividade')"
            ]
          },
          "metadata": {},
          "execution_count": 96
        },
        {
          "output_type": "display_data",
          "data": {
            "text/plain": [
              "<Figure size 640x480 with 1 Axes>"
            ],
            "image/png": "[encoded data removed]"
          },
          "metadata": {}
        }
      ]
    },
    {
      "cell_type": "code",
      "source": [
        "from google.colab import drive\n",
        "drive.mount('/content/drive')"
      ],
      "metadata": {
        "id": "VFe40ymV0i4E"
      },
      "execution_count": null,
      "outputs": []
    },
    {
      "cell_type": "markdown",
      "source": [
        "*A variação na produção pode ser explicada por diversos fatores. O grupo com a menor média pode ter sido impactado por chuvas, problemas climáticos, falta de funcionários ou até mesmo falhas técnicas. Já o grupo com a maior produção pode ter tido condições mais favoráveis, como um clima estável, equipe completa e equipamentos em pleno funcionamento. Esses fatores combinados ajudam a entender as diferenças de desempenho entre os grupos.*"
      ],
      "metadata": {
        "id": "uFfSijqDlh-Q"
      }
    },
    {
      "cell_type": "markdown",
      "source": [
        "#4\n",
        " - Utilize tudo que aprendeu sobre medidas de posição central, gráfico de densidade de frequência e boxplot para responder a seguinte pergunta: Há diferença de produtividade entre blocos (coluna descrição)? Se há, qual bloco é mais produtivo? Qual menos produtivo? Consegue pensar em motivos para esses comportamentos?"
      ],
      "metadata": {
        "id": "L8tB42DFo3pN"
      }
    },
    {
      "cell_type": "markdown",
      "source": [
        "#5\n",
        " - Nas duas respostas anteriores, como estava a relação entre média e mediana? Estavam próximas, afastadas? Comente sobre a possibilidade de outliers no grupo de dados."
      ],
      "metadata": {
        "id": "6PFsn0oJpDSN"
      }
    },
    {
      "cell_type": "markdown",
      "source": [
        "#6\n",
        " - Qual dos blocos tem produtividade mais previsível? Qual tem produtividade menos previsível?"
      ],
      "metadata": {
        "id": "w2CcVw8fpHxQ"
      }
    },
    {
      "cell_type": "markdown",
      "source": [
        "#7\n",
        " - Questão Extra (vale até 2 questões erradas acima, só para os fortes): Assista o vídeo https://www.youtube.com/watch?v=KRZzUFTmpwU (a partir do 16min36) e tome notas do que ficar com dúvida e exponha no seu notebook abaixo. Veja se consegue entender e explique com suas palavras como é feito o cálculo de um coeficiente sugerido à tabela de orçamentos da SIURB."
      ],
      "metadata": {
        "id": "6EDK5bcFpOcR"
      }
    },
    {
      "cell_type": "markdown",
      "source": [
        "#8\n",
        " - Questão Extra parte 2 (vale meia questão errada): Comente o que está achando da disciplina, onde não ficou claro algum conceito, onde está mais interessante. Feedback sincero, construtivo. A ideia é sempre trazer o melhor e mais completo conteúdo pra vocês =)"
      ],
      "metadata": {
        "id": "u5naJnC6pSB6"
      }
    }
  ]
}